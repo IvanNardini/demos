{
 "cells": [
  {
   "cell_type": "markdown",
   "id": "arctic-pound",
   "metadata": {},
   "source": [
    "# Text Analysis for Women's E-Commerce Clothing Reviews\n"
   ]
  },
  {
   "cell_type": "markdown",
   "id": "precious-punishment",
   "metadata": {},
   "source": [
    "## Libraries and Settings"
   ]
  },
  {
   "cell_type": "code",
   "execution_count": 36,
   "id": "nearby-energy",
   "metadata": {},
   "outputs": [],
   "source": [
    "import os\n",
    "import numpy as np\n",
    "import pandas as pd\n",
    "from pathlib import Path\n",
    "\n",
    "# Model Training\n",
    "from sklearn.linear_model import LogisticRegression\n",
    "from sklearn.tree import DecisionTreeClassifier\n",
    "from sklearn.ensemble import RandomForestClassifier, GradientBoostingClassifier\n",
    "from xgboost import XGBClassifier\n",
    "from lightgbm import LGBMClassifier\n",
    "from sklearn import metrics\n",
    "from sklearn.metrics import classification_report, confusion_matrix, auc, plot_roc_curve\n",
    "\n",
    "%config Completer.use_jedi = False"
   ]
  },
  {
   "cell_type": "markdown",
   "id": "injured-playing",
   "metadata": {},
   "source": [
    "## Variables"
   ]
  },
  {
   "cell_type": "code",
   "execution_count": 37,
   "id": "extensive-lightning",
   "metadata": {},
   "outputs": [],
   "source": [
    "FEATURED_DIR = os.path.join(os.pardir, 'data', 'featured')\n",
    "RANDOM_STATE = 8\n",
    "TARGET = 'recommended_ind'"
   ]
  },
  {
   "cell_type": "markdown",
   "id": "municipal-recommendation",
   "metadata": {},
   "source": [
    "## Helpers"
   ]
  },
  {
   "cell_type": "code",
   "execution_count": 38,
   "id": "patient-interim",
   "metadata": {},
   "outputs": [],
   "source": [
    "def load_data(path, filename):\n",
    "    data_path = os.path.join(path, filename)\n",
    "    df = pd.read_csv(data_path)\n",
    "    return df\n",
    "\n",
    "def report(y_true, y_pred, labels):\n",
    "    cm = pd.DataFrame(confusion_matrix(y_true=y_true, y_pred=y_pred), \n",
    "                                        index=labels, columns=labels)\n",
    "    rep = classification_report(y_true=y_true, y_pred=y_pred)\n",
    "    return (f'Confusion Matrix:\\n{cm}\\n\\nClassification Report:\\n{rep}')"
   ]
  },
  {
   "cell_type": "markdown",
   "id": "duplicate-filing",
   "metadata": {},
   "source": [
    "## Load Data"
   ]
  },
  {
   "cell_type": "code",
   "execution_count": 39,
   "id": "civic-subject",
   "metadata": {},
   "outputs": [],
   "source": [
    "train = load_data(FEATURED_DIR, 'train_abt.csv')\n",
    "test = load_data(FEATURED_DIR, 'test_abt.csv')"
   ]
  },
  {
   "cell_type": "markdown",
   "id": "flying-school",
   "metadata": {},
   "source": [
    "## Train: Target and Variables"
   ]
  },
  {
   "cell_type": "code",
   "execution_count": 40,
   "id": "maritime-oxide",
   "metadata": {},
   "outputs": [],
   "source": [
    "X_train = train[train.columns.difference([TARGET])]\n",
    "y_train = train[TARGET]"
   ]
  },
  {
   "cell_type": "code",
   "execution_count": 41,
   "id": "forbidden-earth",
   "metadata": {},
   "outputs": [
    {
     "data": {
      "text/plain": [
       "(22248, 11186)"
      ]
     },
     "execution_count": 41,
     "metadata": {},
     "output_type": "execute_result"
    }
   ],
   "source": [
    "X_train.shape"
   ]
  },
  {
   "cell_type": "code",
   "execution_count": 42,
   "id": "meaningful-outside",
   "metadata": {},
   "outputs": [
    {
     "data": {
      "text/plain": [
       "1    11148\n",
       "0    11100\n",
       "Name: recommended_ind, dtype: int64"
      ]
     },
     "execution_count": 42,
     "metadata": {},
     "output_type": "execute_result"
    }
   ],
   "source": [
    "y_train.value_counts()"
   ]
  },
  {
   "cell_type": "code",
   "execution_count": 43,
   "id": "significant-broadway",
   "metadata": {},
   "outputs": [],
   "source": [
    "X_test = test[train.columns.difference([TARGET])]\n",
    "y_test = test[TARGET]"
   ]
  },
  {
   "cell_type": "markdown",
   "id": "arctic-visit",
   "metadata": {},
   "source": [
    "## Model Training"
   ]
  },
  {
   "cell_type": "markdown",
   "id": "indie-contributor",
   "metadata": {},
   "source": [
    "### Logistic Regression"
   ]
  },
  {
   "cell_type": "code",
   "execution_count": 44,
   "id": "bigger-evidence",
   "metadata": {},
   "outputs": [
    {
     "data": {
      "text/plain": [
       "LogisticRegression(max_iter=200, random_state=8)"
      ]
     },
     "execution_count": 44,
     "metadata": {},
     "output_type": "execute_result"
    }
   ],
   "source": [
    "logit_model = LogisticRegression(random_state=RANDOM_STATE, max_iter=200)\n",
    "logit_model.fit(X_train, y_train)"
   ]
  },
  {
   "cell_type": "code",
   "execution_count": 45,
   "id": "incorporate-portsmouth",
   "metadata": {},
   "outputs": [
    {
     "name": "stdout",
     "output_type": "stream",
     "text": [
      "Confusion Matrix:\n",
      "      0     1\n",
      "0  3553   229\n",
      "1   437  3197\n",
      "\n",
      "Classification Report:\n",
      "              precision    recall  f1-score   support\n",
      "\n",
      "           0       0.89      0.94      0.91      3782\n",
      "           1       0.93      0.88      0.91      3634\n",
      "\n",
      "    accuracy                           0.91      7416\n",
      "   macro avg       0.91      0.91      0.91      7416\n",
      "weighted avg       0.91      0.91      0.91      7416\n",
      "\n"
     ]
    },
    {
     "data": {
      "text/plain": [
       "<sklearn.metrics._plot.roc_curve.RocCurveDisplay at 0x7f8090695190>"
      ]
     },
     "execution_count": 45,
     "metadata": {},
     "output_type": "execute_result"
    },
    {
     "data": {
      "image/png": "[encoded data removed]",
      "text/plain": [
       "<Figure size 432x288 with 1 Axes>"
      ]
     },
     "metadata": {
      "needs_background": "light"
     },
     "output_type": "display_data"
    }
   ],
   "source": [
    "test_predictions = logit_model.predict(X_test)\n",
    "print(report(y_test, test_predictions, logit_model.classes_ ))\n",
    "plot_roc_curve(logit_model, X_test, y_test)"
   ]
  },
  {
   "cell_type": "markdown",
   "id": "informed-quantum",
   "metadata": {},
   "source": [
    "### Decision Tree"
   ]
  },
  {
   "cell_type": "code",
   "execution_count": 46,
   "id": "empty-grocery",
   "metadata": {},
   "outputs": [
    {
     "data": {
      "text/plain": [
       "DecisionTreeClassifier(random_state=8)"
      ]
     },
     "execution_count": 46,
     "metadata": {},
     "output_type": "execute_result"
    }
   ],
   "source": [
    "dtree_model = DecisionTreeClassifier(random_state=RANDOM_STATE)\n",
    "dtree_model.fit(X_train, y_train)"
   ]
  },
  {
   "cell_type": "code",
   "execution_count": 47,
   "id": "continuous-funds",
   "metadata": {},
   "outputs": [
    {
     "name": "stdout",
     "output_type": "stream",
     "text": [
      "Confusion Matrix:\n",
      "      0     1\n",
      "0  3701    81\n",
      "1   624  3010\n",
      "\n",
      "Classification Report:\n",
      "              precision    recall  f1-score   support\n",
      "\n",
      "           0       0.86      0.98      0.91      3782\n",
      "           1       0.97      0.83      0.90      3634\n",
      "\n",
      "    accuracy                           0.90      7416\n",
      "   macro avg       0.91      0.90      0.90      7416\n",
      "weighted avg       0.91      0.90      0.90      7416\n",
      "\n"
     ]
    },
    {
     "data": {
      "text/plain": [
       "<sklearn.metrics._plot.roc_curve.RocCurveDisplay at 0x7f80a1ca11f0>"
      ]
     },
     "execution_count": 47,
     "metadata": {},
     "output_type": "execute_result"
    },
    {
     "data": {
      "image/png": "[encoded data removed]",
      "text/plain": [
       "<Figure size 432x288 with 1 Axes>"
      ]
     },
     "metadata": {
      "needs_background": "light"
     },
     "output_type": "display_data"
    }
   ],
   "source": [
    "test_predictions = dtree_model.predict(X_test)\n",
    "print(report(y_test, test_predictions, dtree_model.classes_ ))\n",
    "plot_roc_curve(dtree_model, X_test, y_test)"
   ]
  },
  {
   "cell_type": "markdown",
   "id": "greek-cooler",
   "metadata": {},
   "source": [
    "### Random Forest"
   ]
  },
  {
   "cell_type": "code",
   "execution_count": 48,
   "id": "present-hungary",
   "metadata": {},
   "outputs": [
    {
     "data": {
      "text/plain": [
       "RandomForestClassifier(random_state=8)"
      ]
     },
     "execution_count": 48,
     "metadata": {},
     "output_type": "execute_result"
    }
   ],
   "source": [
    "rf_model = RandomForestClassifier(random_state=RANDOM_STATE)\n",
    "rf_model.fit(X_train, y_train)"
   ]
  },
  {
   "cell_type": "code",
   "execution_count": 49,
   "id": "accurate-elephant",
   "metadata": {},
   "outputs": [
    {
     "name": "stdout",
     "output_type": "stream",
     "text": [
      "Confusion Matrix:\n",
      "      0     1\n",
      "0  3694    88\n",
      "1   203  3431\n",
      "\n",
      "Classification Report:\n",
      "              precision    recall  f1-score   support\n",
      "\n",
      "           0       0.95      0.98      0.96      3782\n",
      "           1       0.97      0.94      0.96      3634\n",
      "\n",
      "    accuracy                           0.96      7416\n",
      "   macro avg       0.96      0.96      0.96      7416\n",
      "weighted avg       0.96      0.96      0.96      7416\n",
      "\n"
     ]
    },
    {
     "data": {
      "text/plain": [
       "<sklearn.metrics._plot.roc_curve.RocCurveDisplay at 0x7f80a6270d30>"
      ]
     },
     "execution_count": 49,
     "metadata": {},
     "output_type": "execute_result"
    },
    {
     "data": {
      "image/png": "[encoded data removed]",
      "text/plain": [
       "<Figure size 432x288 with 1 Axes>"
      ]
     },
     "metadata": {
      "needs_background": "light"
     },
     "output_type": "display_data"
    }
   ],
   "source": [
    "test_predictions = rf_model.predict(X_test)\n",
    "print(report(y_test, test_predictions, rf_model.classes_ ))\n",
    "plot_roc_curve(rf_model, X_test, y_test)   "
   ]
  },
  {
   "cell_type": "markdown",
   "id": "weighted-lancaster",
   "metadata": {},
   "source": [
    "### Gradient Boosting"
   ]
  },
  {
   "cell_type": "code",
   "execution_count": 50,
   "id": "voluntary-roulette",
   "metadata": {},
   "outputs": [
    {
     "data": {
      "text/plain": [
       "GradientBoostingClassifier(random_state=8)"
      ]
     },
     "execution_count": 50,
     "metadata": {},
     "output_type": "execute_result"
    }
   ],
   "source": [
    "gb_model = GradientBoostingClassifier(random_state=RANDOM_STATE)\n",
    "gb_model.fit(X_train, y_train)"
   ]
  },
  {
   "cell_type": "code",
   "execution_count": 51,
   "id": "reasonable-authentication",
   "metadata": {},
   "outputs": [
    {
     "name": "stdout",
     "output_type": "stream",
     "text": [
      "Confusion Matrix:\n",
      "      0     1\n",
      "0  3164   618\n",
      "1   629  3005\n",
      "\n",
      "Classification Report:\n",
      "              precision    recall  f1-score   support\n",
      "\n",
      "           0       0.83      0.84      0.84      3782\n",
      "           1       0.83      0.83      0.83      3634\n",
      "\n",
      "    accuracy                           0.83      7416\n",
      "   macro avg       0.83      0.83      0.83      7416\n",
      "weighted avg       0.83      0.83      0.83      7416\n",
      "\n"
     ]
    },
    {
     "data": {
      "text/plain": [
       "<sklearn.metrics._plot.roc_curve.RocCurveDisplay at 0x7f809259e340>"
      ]
     },
     "execution_count": 51,
     "metadata": {},
     "output_type": "execute_result"
    },
    {
     "data": {
      "image/png": "[encoded data removed]",
      "text/plain": [
       "<Figure size 432x288 with 1 Axes>"
      ]
     },
     "metadata": {
      "needs_background": "light"
     },
     "output_type": "display_data"
    }
   ],
   "source": [
    "test_predictions = gb_model.predict(X_test)\n",
    "print(report(y_test, test_predictions, gb_model.classes_ ))\n",
    "plot_roc_curve(gb_model, X_test, y_test) "
   ]
  },
  {
   "cell_type": "markdown",
   "id": "roman-attack",
   "metadata": {},
   "source": [
    "### XGBoost"
   ]
  },
  {
   "cell_type": "code",
   "execution_count": 54,
   "id": "thermal-prize",
   "metadata": {},
   "outputs": [
    {
     "name": "stdout",
     "output_type": "stream",
     "text": [
      "[08:46:52] WARNING: ../src/learner.cc:1061: Starting in XGBoost 1.3.0, the default evaluation metric used with the objective 'binary:logistic' was changed from 'error' to 'logloss'. Explicitly set eval_metric if you'd like to restore the old behavior.\n"
     ]
    },
    {
     "data": {
      "text/plain": [
       "XGBClassifier(base_score=0.5, booster='gbtree', colsample_bylevel=1,\n",
       "              colsample_bynode=1, colsample_bytree=1, gamma=0, gpu_id=-1,\n",
       "              importance_type='gain', interaction_constraints='',\n",
       "              learning_rate=0.300000012, max_delta_step=0, max_depth=6,\n",
       "              min_child_weight=1, missing=nan, monotone_constraints='()',\n",
       "              n_estimators=100, n_jobs=12, num_parallel_tree=1, random_state=8,\n",
       "              reg_alpha=0, reg_lambda=1, scale_pos_weight=1, subsample=1,\n",
       "              tree_method='exact', use_label_encoder=False,\n",
       "              validate_parameters=1, verbosity=None)"
      ]
     },
     "execution_count": 54,
     "metadata": {},
     "output_type": "execute_result"
    }
   ],
   "source": [
    "xgb_model = XGBClassifier(random_state=RANDOM_STATE, use_label_encoder=False)\n",
    "xgb_model.fit(X_train, y_train)"
   ]
  },
  {
   "cell_type": "code",
   "execution_count": 55,
   "id": "requested-fireplace",
   "metadata": {},
   "outputs": [
    {
     "name": "stdout",
     "output_type": "stream",
     "text": [
      "Confusion Matrix:\n",
      "      0     1\n",
      "0  3571   211\n",
      "1   437  3197\n",
      "\n",
      "Classification Report:\n",
      "              precision    recall  f1-score   support\n",
      "\n",
      "           0       0.89      0.94      0.92      3782\n",
      "           1       0.94      0.88      0.91      3634\n",
      "\n",
      "    accuracy                           0.91      7416\n",
      "   macro avg       0.91      0.91      0.91      7416\n",
      "weighted avg       0.91      0.91      0.91      7416\n",
      "\n"
     ]
    },
    {
     "data": {
      "text/plain": [
       "<sklearn.metrics._plot.roc_curve.RocCurveDisplay at 0x7f7b4daea040>"
      ]
     },
     "execution_count": 55,
     "metadata": {},
     "output_type": "execute_result"
    },
    {
     "data": {
      "image/png": "[encoded data removed]",
      "text/plain": [
       "<Figure size 432x288 with 1 Axes>"
      ]
     },
     "metadata": {
      "needs_background": "light"
     },
     "output_type": "display_data"
    }
   ],
   "source": [
    "test_predictions = xgb_model.predict(X_test)\n",
    "print(report(y_test, test_predictions, xgb_model.classes_))\n",
    "plot_roc_curve(xgb_model, X_test, y_test)"
   ]
  },
  {
   "cell_type": "markdown",
   "id": "diverse-quarterly",
   "metadata": {},
   "source": [
    "### LightGB"
   ]
  },
  {
   "cell_type": "code",
   "execution_count": 58,
   "id": "seventh-oxford",
   "metadata": {},
   "outputs": [
    {
     "data": {
      "text/plain": [
       "LGBMClassifier(random_state=8)"
      ]
     },
     "execution_count": 58,
     "metadata": {},
     "output_type": "execute_result"
    }
   ],
   "source": [
    "lgb_model = LGBMClassifier(random_state=RANDOM_STATE)\n",
    "lgb_model.fit(X_train, y_train)"
   ]
  },
  {
   "cell_type": "code",
   "execution_count": 59,
   "id": "focused-comment",
   "metadata": {},
   "outputs": [
    {
     "name": "stdout",
     "output_type": "stream",
     "text": [
      "Confusion Matrix:\n",
      "      0     1\n",
      "0  3571   211\n",
      "1   437  3197\n",
      "\n",
      "Classification Report:\n",
      "              precision    recall  f1-score   support\n",
      "\n",
      "           0       0.89      0.94      0.92      3782\n",
      "           1       0.94      0.88      0.91      3634\n",
      "\n",
      "    accuracy                           0.91      7416\n",
      "   macro avg       0.91      0.91      0.91      7416\n",
      "weighted avg       0.91      0.91      0.91      7416\n",
      "\n"
     ]
    },
    {
     "data": {
      "text/plain": [
       "<sklearn.metrics._plot.roc_curve.RocCurveDisplay at 0x7f7b8bc5c730>"
      ]
     },
     "execution_count": 59,
     "metadata": {},
     "output_type": "execute_result"
    },
    {
     "data": {
      "image/png": "[encoded data removed]",
      "text/plain": [
       "<Figure size 432x288 with 1 Axes>"
      ]
     },
     "metadata": {
      "needs_background": "light"
     },
     "output_type": "display_data"
    }
   ],
   "source": [
    "test_predictions = xgb_model.predict(X_test)\n",
    "print(report(y_test, test_predictions, xgb_model.classes_ ))\n",
    "plot_roc_curve(xgb_model, X_test, y_test)  "
   ]
  },
  {
   "cell_type": "markdown",
   "id": "italic-mozambique",
   "metadata": {},
   "source": [
    "## Comment"
   ]
  },
  {
   "cell_type": "markdown",
   "id": "every-blair",
   "metadata": {},
   "source": [
    "The model which performs best is **Random Forest**"
   ]
  }
 ],
 "metadata": {
  "kernelspec": {
   "display_name": "Python 3",
   "language": "python",
   "name": "python3"
  },
  "language_info": {
   "codemirror_mode": {
    "name": "ipython",
    "version": 3
   },
   "file_extension": ".py",
   "mimetype": "text/x-python",
   "name": "python",
   "nbconvert_exporter": "python",
   "pygments_lexer": "ipython3",
   "version": "3.8.8"
  }
 },
 "nbformat": 4,
 "nbformat_minor": 5
}
