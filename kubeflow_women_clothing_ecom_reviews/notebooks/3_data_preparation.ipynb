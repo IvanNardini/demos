{
 "cells": [
  {
   "cell_type": "markdown",
   "id": "cordless-chinese",
   "metadata": {},
   "source": [
    "# Text Analysis for Women's E-Commerce Clothing Reviews"
   ]
  },
  {
   "cell_type": "markdown",
   "id": "later-strain",
   "metadata": {},
   "source": [
    "## Libraries and Settings"
   ]
  },
  {
   "cell_type": "code",
   "execution_count": 1,
   "id": "existing-progress",
   "metadata": {},
   "outputs": [
    {
     "name": "stderr",
     "output_type": "stream",
     "text": [
      "[nltk_data] Downloading package punkt to /Users/inardini/nltk_data...\n",
      "[nltk_data]   Package punkt is already up-to-date!\n",
      "[nltk_data] Downloading package stopwords to\n",
      "[nltk_data]     /Users/inardini/nltk_data...\n",
      "[nltk_data]   Package stopwords is already up-to-date!\n",
      "[nltk_data] Downloading package wordnet to\n",
      "[nltk_data]     /Users/inardini/nltk_data...\n",
      "[nltk_data]   Package wordnet is already up-to-date!\n"
     ]
    }
   ],
   "source": [
    "import os\n",
    "import tqdm\n",
    "import pandas as pd\n",
    "from pathlib import Path\n",
    "\n",
    "import string\n",
    "import nltk\n",
    "from nltk.tokenize import word_tokenize\n",
    "from nltk.corpus import stopwords\n",
    "nltk.download('punkt')\n",
    "nltk.download('stopwords')\n",
    "nltk.download('wordnet')\n",
    "from nltk.stem import PorterStemmer\n",
    "from nltk.stem.wordnet import WordNetLemmatizer\n",
    "\n",
    "%config Completer.use_jedi = False"
   ]
  },
  {
   "cell_type": "markdown",
   "id": "fabulous-mailing",
   "metadata": {},
   "source": [
    "## Variables"
   ]
  },
  {
   "cell_type": "code",
   "execution_count": 2,
   "id": "interim-grounds",
   "metadata": {},
   "outputs": [],
   "source": [
    "INTERIM_DIR = os.path.join(os.pardir, 'data', 'interim')\n",
    "TEXT_VAR = 'review_text'\n",
    "RANDOM_STATE = 8\n",
    "LANG = 'english'\n",
    "PROCESSED_DIR = os.path.join(os.pardir, 'data', 'processed')"
   ]
  },
  {
   "cell_type": "markdown",
   "id": "ranging-drama",
   "metadata": {},
   "source": [
    "## Helpers"
   ]
  },
  {
   "cell_type": "code",
   "execution_count": 3,
   "id": "dutch-enlargement",
   "metadata": {},
   "outputs": [],
   "source": [
    "def load_data(path, filename):\n",
    "    data_path = os.path.join(path, filename)\n",
    "    df = pd.read_csv(data_path)\n",
    "    return df\n",
    "\n",
    "def remove_pct(s):\n",
    "    return s.translate(str.maketrans('','',string.punctuation))\n",
    "\n",
    "def remove_dg(s):\n",
    "    return s.translate(str.maketrans('','',string.digits))\n",
    "    \n",
    "def remove_sw(words_list):\n",
    "    stop_words=stopwords.words(\"english\")\n",
    "    return [word for word in words_list if word not in stop_words]\n",
    "\n",
    "def stemmer(words_list):\n",
    "    ps = PorterStemmer()\n",
    "    return [ps.stem(word) for word in words_list]\n",
    "\n",
    "def lemmer(words_list):\n",
    "        lem = WordNetLemmatizer()\n",
    "        return [lem.lemmatize(word) for word in words_list]\n",
    "    \n",
    "def get_data_prepared(df, text_var):\n",
    "    df = df.copy()\n",
    "    \n",
    "    # lower\n",
    "    df['review_text_processed'] = df[text_var].apply(lambda x: x.lower())\n",
    "    # remove punctualizations\n",
    "    df['review_text_processed'] = df['review_text_processed'].apply(remove_pct)\n",
    "    # remove digit\n",
    "    df['review_text_processed'] = df['review_text_processed'].apply(remove_dg)\n",
    "    # split \n",
    "    df['review_text_processed'] = df['review_text_processed'].apply(word_tokenize)\n",
    "    # remove stopwords\n",
    "    df['review_text_processed'] = df['review_text_processed'].apply(remove_sw)\n",
    "    # stemming\n",
    "    df['review_text_processed'] = df['review_text_processed'].apply(stemmer)\n",
    "    # lemming\n",
    "    df['review_text_processed'] = df['review_text_processed'].apply(lemmer)\n",
    "    \n",
    "    return df[['clothing_id', 'review_text', 'review_text_processed', 'recommended_ind']]\n",
    "\n",
    "def save_data(df, path, filename):\n",
    "    data_path = os.path.join(path, filename)\n",
    "    df.to_csv(data_path, index=False)"
   ]
  },
  {
   "cell_type": "markdown",
   "id": "smaller-transfer",
   "metadata": {},
   "source": [
    "## Load data"
   ]
  },
  {
   "cell_type": "code",
   "execution_count": 4,
   "id": "stopped-customer",
   "metadata": {},
   "outputs": [],
   "source": [
    "train = load_data(INTERIM_DIR, 'train_interim.csv')\n",
    "test = load_data(INTERIM_DIR, 'test_interim.csv')\n",
    "val = load_data(INTERIM_DIR, 'val_interim.csv')"
   ]
  },
  {
   "cell_type": "code",
   "execution_count": 5,
   "id": "static-devices",
   "metadata": {},
   "outputs": [
    {
     "data": {
      "text/html": [
       "<div>\n",
       "<style scoped>\n",
       "    .dataframe tbody tr th:only-of-type {\n",
       "        vertical-align: middle;\n",
       "    }\n",
       "\n",
       "    .dataframe tbody tr th {\n",
       "        vertical-align: top;\n",
       "    }\n",
       "\n",
       "    .dataframe thead th {\n",
       "        text-align: right;\n",
       "    }\n",
       "</style>\n",
       "<table border=\"1\" class=\"dataframe\">\n",
       "  <thead>\n",
       "    <tr style=\"text-align: right;\">\n",
       "      <th></th>\n",
       "      <th>clothing_id</th>\n",
       "      <th>review_text</th>\n",
       "      <th>recommended_ind</th>\n",
       "    </tr>\n",
       "  </thead>\n",
       "  <tbody>\n",
       "    <tr>\n",
       "      <th>0</th>\n",
       "      <td>867</td>\n",
       "      <td>I have been admiring this piece for awhile and...</td>\n",
       "      <td>1</td>\n",
       "    </tr>\n",
       "    <tr>\n",
       "      <th>1</th>\n",
       "      <td>1081</td>\n",
       "      <td>This dress looks great on me. it gives a slend...</td>\n",
       "      <td>1</td>\n",
       "    </tr>\n",
       "    <tr>\n",
       "      <th>2</th>\n",
       "      <td>862</td>\n",
       "      <td>I love this! i agree with previous post that s...</td>\n",
       "      <td>1</td>\n",
       "    </tr>\n",
       "    <tr>\n",
       "      <th>3</th>\n",
       "      <td>1081</td>\n",
       "      <td>Not sure why this dress was once backordered? ...</td>\n",
       "      <td>0</td>\n",
       "    </tr>\n",
       "    <tr>\n",
       "      <th>4</th>\n",
       "      <td>1020</td>\n",
       "      <td>Unlike the other reviewers, i did not have any...</td>\n",
       "      <td>1</td>\n",
       "    </tr>\n",
       "  </tbody>\n",
       "</table>\n",
       "</div>"
      ],
      "text/plain": [
       "   clothing_id                                        review_text  \\\n",
       "0          867  I have been admiring this piece for awhile and...   \n",
       "1         1081  This dress looks great on me. it gives a slend...   \n",
       "2          862  I love this! i agree with previous post that s...   \n",
       "3         1081  Not sure why this dress was once backordered? ...   \n",
       "4         1020  Unlike the other reviewers, i did not have any...   \n",
       "\n",
       "   recommended_ind  \n",
       "0                1  \n",
       "1                1  \n",
       "2                1  \n",
       "3                0  \n",
       "4                1  "
      ]
     },
     "execution_count": 5,
     "metadata": {},
     "output_type": "execute_result"
    }
   ],
   "source": [
    "train.head()"
   ]
  },
  {
   "cell_type": "code",
   "execution_count": 6,
   "id": "functioning-physics",
   "metadata": {},
   "outputs": [
    {
     "data": {
      "text/html": [
       "<div>\n",
       "<style scoped>\n",
       "    .dataframe tbody tr th:only-of-type {\n",
       "        vertical-align: middle;\n",
       "    }\n",
       "\n",
       "    .dataframe tbody tr th {\n",
       "        vertical-align: top;\n",
       "    }\n",
       "\n",
       "    .dataframe thead th {\n",
       "        text-align: right;\n",
       "    }\n",
       "</style>\n",
       "<table border=\"1\" class=\"dataframe\">\n",
       "  <thead>\n",
       "    <tr style=\"text-align: right;\">\n",
       "      <th></th>\n",
       "      <th>clothing_id</th>\n",
       "      <th>review_text</th>\n",
       "      <th>recommended_ind</th>\n",
       "    </tr>\n",
       "  </thead>\n",
       "  <tbody>\n",
       "    <tr>\n",
       "      <th>0</th>\n",
       "      <td>867</td>\n",
       "      <td>I have been admiring this piece for awhile and...</td>\n",
       "      <td>1</td>\n",
       "    </tr>\n",
       "    <tr>\n",
       "      <th>1</th>\n",
       "      <td>1081</td>\n",
       "      <td>This dress looks great on me. it gives a slend...</td>\n",
       "      <td>1</td>\n",
       "    </tr>\n",
       "    <tr>\n",
       "      <th>2</th>\n",
       "      <td>862</td>\n",
       "      <td>I love this! i agree with previous post that s...</td>\n",
       "      <td>1</td>\n",
       "    </tr>\n",
       "    <tr>\n",
       "      <th>3</th>\n",
       "      <td>1081</td>\n",
       "      <td>Not sure why this dress was once backordered? ...</td>\n",
       "      <td>0</td>\n",
       "    </tr>\n",
       "    <tr>\n",
       "      <th>4</th>\n",
       "      <td>1020</td>\n",
       "      <td>Unlike the other reviewers, i did not have any...</td>\n",
       "      <td>1</td>\n",
       "    </tr>\n",
       "  </tbody>\n",
       "</table>\n",
       "</div>"
      ],
      "text/plain": [
       "   clothing_id                                        review_text  \\\n",
       "0          867  I have been admiring this piece for awhile and...   \n",
       "1         1081  This dress looks great on me. it gives a slend...   \n",
       "2          862  I love this! i agree with previous post that s...   \n",
       "3         1081  Not sure why this dress was once backordered? ...   \n",
       "4         1020  Unlike the other reviewers, i did not have any...   \n",
       "\n",
       "   recommended_ind  \n",
       "0                1  \n",
       "1                1  \n",
       "2                1  \n",
       "3                0  \n",
       "4                1  "
      ]
     },
     "execution_count": 6,
     "metadata": {},
     "output_type": "execute_result"
    }
   ],
   "source": [
    "train.head()"
   ]
  },
  {
   "cell_type": "markdown",
   "id": "vanilla-ontario",
   "metadata": {},
   "source": [
    "## Data Preparation"
   ]
  },
  {
   "cell_type": "code",
   "execution_count": 7,
   "id": "competitive-essence",
   "metadata": {},
   "outputs": [],
   "source": [
    "train_prepared = get_data_prepared(train, TEXT_VAR)"
   ]
  },
  {
   "cell_type": "code",
   "execution_count": 8,
   "id": "understanding-floating",
   "metadata": {},
   "outputs": [
    {
     "data": {
      "text/html": [
       "<div>\n",
       "<style scoped>\n",
       "    .dataframe tbody tr th:only-of-type {\n",
       "        vertical-align: middle;\n",
       "    }\n",
       "\n",
       "    .dataframe tbody tr th {\n",
       "        vertical-align: top;\n",
       "    }\n",
       "\n",
       "    .dataframe thead th {\n",
       "        text-align: right;\n",
       "    }\n",
       "</style>\n",
       "<table border=\"1\" class=\"dataframe\">\n",
       "  <thead>\n",
       "    <tr style=\"text-align: right;\">\n",
       "      <th></th>\n",
       "      <th>clothing_id</th>\n",
       "      <th>review_text</th>\n",
       "      <th>review_text_processed</th>\n",
       "      <th>recommended_ind</th>\n",
       "    </tr>\n",
       "  </thead>\n",
       "  <tbody>\n",
       "    <tr>\n",
       "      <th>0</th>\n",
       "      <td>867</td>\n",
       "      <td>I have been admiring this piece for awhile and...</td>\n",
       "      <td>[admir, piec, awhil, final, decid, purchas, ha...</td>\n",
       "      <td>1</td>\n",
       "    </tr>\n",
       "    <tr>\n",
       "      <th>1</th>\n",
       "      <td>1081</td>\n",
       "      <td>This dress looks great on me. it gives a slend...</td>\n",
       "      <td>[dress, look, great, give, slender, appear, hi...</td>\n",
       "      <td>1</td>\n",
       "    </tr>\n",
       "    <tr>\n",
       "      <th>2</th>\n",
       "      <td>862</td>\n",
       "      <td>I love this! i agree with previous post that s...</td>\n",
       "      <td>[love, agre, previou, post, say, much, better,...</td>\n",
       "      <td>1</td>\n",
       "    </tr>\n",
       "    <tr>\n",
       "      <th>3</th>\n",
       "      <td>1081</td>\n",
       "      <td>Not sure why this dress was once backordered? ...</td>\n",
       "      <td>[sure, dress, backord, big, chest, basic, fall...</td>\n",
       "      <td>0</td>\n",
       "    </tr>\n",
       "    <tr>\n",
       "      <th>4</th>\n",
       "      <td>1020</td>\n",
       "      <td>Unlike the other reviewers, i did not have any...</td>\n",
       "      <td>[unlik, review, problem, size, fit, length, sk...</td>\n",
       "      <td>1</td>\n",
       "    </tr>\n",
       "  </tbody>\n",
       "</table>\n",
       "</div>"
      ],
      "text/plain": [
       "   clothing_id                                        review_text  \\\n",
       "0          867  I have been admiring this piece for awhile and...   \n",
       "1         1081  This dress looks great on me. it gives a slend...   \n",
       "2          862  I love this! i agree with previous post that s...   \n",
       "3         1081  Not sure why this dress was once backordered? ...   \n",
       "4         1020  Unlike the other reviewers, i did not have any...   \n",
       "\n",
       "                               review_text_processed  recommended_ind  \n",
       "0  [admir, piec, awhil, final, decid, purchas, ha...                1  \n",
       "1  [dress, look, great, give, slender, appear, hi...                1  \n",
       "2  [love, agre, previou, post, say, much, better,...                1  \n",
       "3  [sure, dress, backord, big, chest, basic, fall...                0  \n",
       "4  [unlik, review, problem, size, fit, length, sk...                1  "
      ]
     },
     "execution_count": 8,
     "metadata": {},
     "output_type": "execute_result"
    }
   ],
   "source": [
    "train_prepared.head()"
   ]
  },
  {
   "cell_type": "code",
   "execution_count": 9,
   "id": "extensive-envelope",
   "metadata": {},
   "outputs": [],
   "source": [
    "test_prepared = get_data_prepared(test, TEXT_VAR)"
   ]
  },
  {
   "cell_type": "code",
   "execution_count": 10,
   "id": "registered-consideration",
   "metadata": {},
   "outputs": [
    {
     "data": {
      "text/html": [
       "<div>\n",
       "<style scoped>\n",
       "    .dataframe tbody tr th:only-of-type {\n",
       "        vertical-align: middle;\n",
       "    }\n",
       "\n",
       "    .dataframe tbody tr th {\n",
       "        vertical-align: top;\n",
       "    }\n",
       "\n",
       "    .dataframe thead th {\n",
       "        text-align: right;\n",
       "    }\n",
       "</style>\n",
       "<table border=\"1\" class=\"dataframe\">\n",
       "  <thead>\n",
       "    <tr style=\"text-align: right;\">\n",
       "      <th></th>\n",
       "      <th>clothing_id</th>\n",
       "      <th>review_text</th>\n",
       "      <th>review_text_processed</th>\n",
       "      <th>recommended_ind</th>\n",
       "    </tr>\n",
       "  </thead>\n",
       "  <tbody>\n",
       "    <tr>\n",
       "      <th>0</th>\n",
       "      <td>927</td>\n",
       "      <td>This looks so cute...but don't be fooled. it i...</td>\n",
       "      <td>[look, cutebut, dont, fool, poofi, look, real,...</td>\n",
       "      <td>0</td>\n",
       "    </tr>\n",
       "    <tr>\n",
       "      <th>1</th>\n",
       "      <td>820</td>\n",
       "      <td>This is the most unflattering peplum top i hav...</td>\n",
       "      <td>[unflatt, peplum, top, ever, tri, fit, perfect...</td>\n",
       "      <td>0</td>\n",
       "    </tr>\n",
       "    <tr>\n",
       "      <th>2</th>\n",
       "      <td>936</td>\n",
       "      <td>Let me start this review by saying, 75% of my ...</td>\n",
       "      <td>[let, start, review, say, cloth, retail, love,...</td>\n",
       "      <td>0</td>\n",
       "    </tr>\n",
       "    <tr>\n",
       "      <th>3</th>\n",
       "      <td>862</td>\n",
       "      <td>Love the petroleum blue\\nunique twist design\\n...</td>\n",
       "      <td>[love, petroleum, blue, uniqu, twist, design, ...</td>\n",
       "      <td>1</td>\n",
       "    </tr>\n",
       "    <tr>\n",
       "      <th>4</th>\n",
       "      <td>1061</td>\n",
       "      <td>I ordered a small and the top part was huge ye...</td>\n",
       "      <td>[order, small, top, part, huge, yet, bottom, l...</td>\n",
       "      <td>0</td>\n",
       "    </tr>\n",
       "  </tbody>\n",
       "</table>\n",
       "</div>"
      ],
      "text/plain": [
       "   clothing_id                                        review_text  \\\n",
       "0          927  This looks so cute...but don't be fooled. it i...   \n",
       "1          820  This is the most unflattering peplum top i hav...   \n",
       "2          936  Let me start this review by saying, 75% of my ...   \n",
       "3          862  Love the petroleum blue\\nunique twist design\\n...   \n",
       "4         1061  I ordered a small and the top part was huge ye...   \n",
       "\n",
       "                               review_text_processed  recommended_ind  \n",
       "0  [look, cutebut, dont, fool, poofi, look, real,...                0  \n",
       "1  [unflatt, peplum, top, ever, tri, fit, perfect...                0  \n",
       "2  [let, start, review, say, cloth, retail, love,...                0  \n",
       "3  [love, petroleum, blue, uniqu, twist, design, ...                1  \n",
       "4  [order, small, top, part, huge, yet, bottom, l...                0  "
      ]
     },
     "execution_count": 10,
     "metadata": {},
     "output_type": "execute_result"
    }
   ],
   "source": [
    "test_prepared.head()"
   ]
  },
  {
   "cell_type": "code",
   "execution_count": 11,
   "id": "casual-billy",
   "metadata": {},
   "outputs": [],
   "source": [
    "val_prepared = get_data_prepared(val, TEXT_VAR)"
   ]
  },
  {
   "cell_type": "code",
   "execution_count": 12,
   "id": "anticipated-colors",
   "metadata": {},
   "outputs": [
    {
     "data": {
      "text/html": [
       "<div>\n",
       "<style scoped>\n",
       "    .dataframe tbody tr th:only-of-type {\n",
       "        vertical-align: middle;\n",
       "    }\n",
       "\n",
       "    .dataframe tbody tr th {\n",
       "        vertical-align: top;\n",
       "    }\n",
       "\n",
       "    .dataframe thead th {\n",
       "        text-align: right;\n",
       "    }\n",
       "</style>\n",
       "<table border=\"1\" class=\"dataframe\">\n",
       "  <thead>\n",
       "    <tr style=\"text-align: right;\">\n",
       "      <th></th>\n",
       "      <th>clothing_id</th>\n",
       "      <th>review_text</th>\n",
       "      <th>review_text_processed</th>\n",
       "      <th>recommended_ind</th>\n",
       "    </tr>\n",
       "  </thead>\n",
       "  <tbody>\n",
       "    <tr>\n",
       "      <th>0</th>\n",
       "      <td>1066</td>\n",
       "      <td>I tried these on in the store, and they are su...</td>\n",
       "      <td>[tri, store, super, cute, run, small, typic, w...</td>\n",
       "      <td>1</td>\n",
       "    </tr>\n",
       "    <tr>\n",
       "      <th>1</th>\n",
       "      <td>1055</td>\n",
       "      <td>I took the advise of a reviewer and sized down...</td>\n",
       "      <td>[took, advis, review, size, x, could, take, wi...</td>\n",
       "      <td>0</td>\n",
       "    </tr>\n",
       "    <tr>\n",
       "      <th>2</th>\n",
       "      <td>1066</td>\n",
       "      <td>I ordered these in my usual pilcro petite size...</td>\n",
       "      <td>[order, usual, pilcro, petit, size, imposs, bu...</td>\n",
       "      <td>0</td>\n",
       "    </tr>\n",
       "    <tr>\n",
       "      <th>3</th>\n",
       "      <td>863</td>\n",
       "      <td>Great top! i'm 5'7\", 135lbs and normally wear ...</td>\n",
       "      <td>[great, top, im, lb, normal, wear, either, x, ...</td>\n",
       "      <td>1</td>\n",
       "    </tr>\n",
       "    <tr>\n",
       "      <th>4</th>\n",
       "      <td>872</td>\n",
       "      <td>I have more of an athletic figure, and the sle...</td>\n",
       "      <td>[athlet, figur, sleev, tend, come, closer, bod...</td>\n",
       "      <td>0</td>\n",
       "    </tr>\n",
       "  </tbody>\n",
       "</table>\n",
       "</div>"
      ],
      "text/plain": [
       "   clothing_id                                        review_text  \\\n",
       "0         1066  I tried these on in the store, and they are su...   \n",
       "1         1055  I took the advise of a reviewer and sized down...   \n",
       "2         1066  I ordered these in my usual pilcro petite size...   \n",
       "3          863  Great top! i'm 5'7\", 135lbs and normally wear ...   \n",
       "4          872  I have more of an athletic figure, and the sle...   \n",
       "\n",
       "                               review_text_processed  recommended_ind  \n",
       "0  [tri, store, super, cute, run, small, typic, w...                1  \n",
       "1  [took, advis, review, size, x, could, take, wi...                0  \n",
       "2  [order, usual, pilcro, petit, size, imposs, bu...                0  \n",
       "3  [great, top, im, lb, normal, wear, either, x, ...                1  \n",
       "4  [athlet, figur, sleev, tend, come, closer, bod...                0  "
      ]
     },
     "execution_count": 12,
     "metadata": {},
     "output_type": "execute_result"
    }
   ],
   "source": [
    "val_prepared.head()"
   ]
  },
  {
   "cell_type": "markdown",
   "id": "governing-russell",
   "metadata": {},
   "source": [
    "## Store processed data"
   ]
  },
  {
   "cell_type": "code",
   "execution_count": 13,
   "id": "approximate-impossible",
   "metadata": {},
   "outputs": [],
   "source": [
    "dfs = [train_prepared, test_prepared, val_prepared]\n",
    "fnames = ['train_processed.csv', 'test_processed.csv', 'val_processed.csv']\n",
    "\n",
    "p = Path(PROCESSED_DIR)\n",
    "if not p.exists():\n",
    "    os.mkdir(p)\n",
    "for df, fname in zip(dfs, fnames):\n",
    "    save_data(df=df, path=PROCESSED_DIR, filename=fname)"
   ]
  },
  {
   "cell_type": "markdown",
   "id": "royal-passenger",
   "metadata": {},
   "source": [
    "# Comments"
   ]
  }
 ],
 "metadata": {
  "kernelspec": {
   "display_name": "Python 3",
   "language": "python",
   "name": "python3"
  },
  "language_info": {
   "codemirror_mode": {
    "name": "ipython",
    "version": 3
   },
   "file_extension": ".py",
   "mimetype": "text/x-python",
   "name": "python",
   "nbconvert_exporter": "python",
   "pygments_lexer": "ipython3",
   "version": "3.8.8"
  }
 },
 "nbformat": 4,
 "nbformat_minor": 5
}
