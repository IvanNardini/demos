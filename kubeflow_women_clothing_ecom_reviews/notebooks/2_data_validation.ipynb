{
 "cells": [
  {
   "cell_type": "markdown",
   "id": "annual-attraction",
   "metadata": {},
   "source": [
    "# Text Analysis for Women's E-Commerce Clothing Reviews"
   ]
  },
  {
   "cell_type": "markdown",
   "id": "related-focus",
   "metadata": {},
   "source": [
    "## Libraries and Settings"
   ]
  },
  {
   "cell_type": "code",
   "execution_count": 1,
   "id": "graphic-strengthening",
   "metadata": {},
   "outputs": [],
   "source": [
    "import os\n",
    "import numpy as np\n",
    "import pandas as pd\n",
    "import pandera as pdv\n",
    "from pandera import Column, Check, DataFrameSchema\n",
    "\n",
    "%config Completer.use_jedi = False"
   ]
  },
  {
   "cell_type": "markdown",
   "id": "horizontal-enlargement",
   "metadata": {},
   "source": [
    "## Variables"
   ]
  },
  {
   "cell_type": "code",
   "execution_count": 2,
   "id": "chemical-response",
   "metadata": {},
   "outputs": [],
   "source": [
    "RAW_DIR = os.path.join(os.pardir, 'data', 'raw')\n",
    "RANDOM_STATE = 8"
   ]
  },
  {
   "cell_type": "markdown",
   "id": "round-attraction",
   "metadata": {},
   "source": [
    "## Helpers"
   ]
  },
  {
   "cell_type": "code",
   "execution_count": 3,
   "id": "afraid-interval",
   "metadata": {},
   "outputs": [],
   "source": [
    "def load_data(path, filename):\n",
    "    data_path = os.path.join(path, filename)\n",
    "    df = pd.read_csv(data_path)\n",
    "    return df"
   ]
  },
  {
   "cell_type": "markdown",
   "id": "departmental-claim",
   "metadata": {},
   "source": [
    "## Load data"
   ]
  },
  {
   "cell_type": "code",
   "execution_count": 4,
   "id": "funded-recipient",
   "metadata": {},
   "outputs": [],
   "source": [
    "raw = load_data(RAW_DIR, 'Womens Clothing E-Commerce Reviews.csv')"
   ]
  },
  {
   "cell_type": "code",
   "execution_count": 5,
   "id": "entire-console",
   "metadata": {},
   "outputs": [
    {
     "data": {
      "text/html": [
       "<div>\n",
       "<style scoped>\n",
       "    .dataframe tbody tr th:only-of-type {\n",
       "        vertical-align: middle;\n",
       "    }\n",
       "\n",
       "    .dataframe tbody tr th {\n",
       "        vertical-align: top;\n",
       "    }\n",
       "\n",
       "    .dataframe thead th {\n",
       "        text-align: right;\n",
       "    }\n",
       "</style>\n",
       "<table border=\"1\" class=\"dataframe\">\n",
       "  <thead>\n",
       "    <tr style=\"text-align: right;\">\n",
       "      <th></th>\n",
       "      <th>Unnamed: 0</th>\n",
       "      <th>Clothing ID</th>\n",
       "      <th>Age</th>\n",
       "      <th>Title</th>\n",
       "      <th>Review Text</th>\n",
       "      <th>Rating</th>\n",
       "      <th>Recommended IND</th>\n",
       "      <th>Positive Feedback Count</th>\n",
       "      <th>Division Name</th>\n",
       "      <th>Department Name</th>\n",
       "      <th>Class Name</th>\n",
       "    </tr>\n",
       "  </thead>\n",
       "  <tbody>\n",
       "    <tr>\n",
       "      <th>0</th>\n",
       "      <td>0</td>\n",
       "      <td>767</td>\n",
       "      <td>33</td>\n",
       "      <td>NaN</td>\n",
       "      <td>Absolutely wonderful - silky and sexy and comf...</td>\n",
       "      <td>4</td>\n",
       "      <td>1</td>\n",
       "      <td>0</td>\n",
       "      <td>Initmates</td>\n",
       "      <td>Intimate</td>\n",
       "      <td>Intimates</td>\n",
       "    </tr>\n",
       "    <tr>\n",
       "      <th>1</th>\n",
       "      <td>1</td>\n",
       "      <td>1080</td>\n",
       "      <td>34</td>\n",
       "      <td>NaN</td>\n",
       "      <td>Love this dress!  it's sooo pretty.  i happene...</td>\n",
       "      <td>5</td>\n",
       "      <td>1</td>\n",
       "      <td>4</td>\n",
       "      <td>General</td>\n",
       "      <td>Dresses</td>\n",
       "      <td>Dresses</td>\n",
       "    </tr>\n",
       "    <tr>\n",
       "      <th>2</th>\n",
       "      <td>2</td>\n",
       "      <td>1077</td>\n",
       "      <td>60</td>\n",
       "      <td>Some major design flaws</td>\n",
       "      <td>I had such high hopes for this dress and reall...</td>\n",
       "      <td>3</td>\n",
       "      <td>0</td>\n",
       "      <td>0</td>\n",
       "      <td>General</td>\n",
       "      <td>Dresses</td>\n",
       "      <td>Dresses</td>\n",
       "    </tr>\n",
       "    <tr>\n",
       "      <th>3</th>\n",
       "      <td>3</td>\n",
       "      <td>1049</td>\n",
       "      <td>50</td>\n",
       "      <td>My favorite buy!</td>\n",
       "      <td>I love, love, love this jumpsuit. it's fun, fl...</td>\n",
       "      <td>5</td>\n",
       "      <td>1</td>\n",
       "      <td>0</td>\n",
       "      <td>General Petite</td>\n",
       "      <td>Bottoms</td>\n",
       "      <td>Pants</td>\n",
       "    </tr>\n",
       "    <tr>\n",
       "      <th>4</th>\n",
       "      <td>4</td>\n",
       "      <td>847</td>\n",
       "      <td>47</td>\n",
       "      <td>Flattering shirt</td>\n",
       "      <td>This shirt is very flattering to all due to th...</td>\n",
       "      <td>5</td>\n",
       "      <td>1</td>\n",
       "      <td>6</td>\n",
       "      <td>General</td>\n",
       "      <td>Tops</td>\n",
       "      <td>Blouses</td>\n",
       "    </tr>\n",
       "  </tbody>\n",
       "</table>\n",
       "</div>"
      ],
      "text/plain": [
       "   Unnamed: 0  Clothing ID  Age                    Title  \\\n",
       "0           0          767   33                      NaN   \n",
       "1           1         1080   34                      NaN   \n",
       "2           2         1077   60  Some major design flaws   \n",
       "3           3         1049   50         My favorite buy!   \n",
       "4           4          847   47         Flattering shirt   \n",
       "\n",
       "                                         Review Text  Rating  Recommended IND  \\\n",
       "0  Absolutely wonderful - silky and sexy and comf...       4                1   \n",
       "1  Love this dress!  it's sooo pretty.  i happene...       5                1   \n",
       "2  I had such high hopes for this dress and reall...       3                0   \n",
       "3  I love, love, love this jumpsuit. it's fun, fl...       5                1   \n",
       "4  This shirt is very flattering to all due to th...       5                1   \n",
       "\n",
       "   Positive Feedback Count   Division Name Department Name Class Name  \n",
       "0                        0       Initmates        Intimate  Intimates  \n",
       "1                        4         General         Dresses    Dresses  \n",
       "2                        0         General         Dresses    Dresses  \n",
       "3                        0  General Petite         Bottoms      Pants  \n",
       "4                        6         General            Tops    Blouses  "
      ]
     },
     "execution_count": 5,
     "metadata": {},
     "output_type": "execute_result"
    }
   ],
   "source": [
    "raw.head()"
   ]
  },
  {
   "cell_type": "code",
   "execution_count": 6,
   "id": "cellular-language",
   "metadata": {},
   "outputs": [
    {
     "name": "stdout",
     "output_type": "stream",
     "text": [
      "<class 'pandas.core.frame.DataFrame'>\n",
      "RangeIndex: 23486 entries, 0 to 23485\n",
      "Data columns (total 11 columns):\n",
      " #   Column                   Non-Null Count  Dtype \n",
      "---  ------                   --------------  ----- \n",
      " 0   Unnamed: 0               23486 non-null  int64 \n",
      " 1   Clothing ID              23486 non-null  int64 \n",
      " 2   Age                      23486 non-null  int64 \n",
      " 3   Title                    19676 non-null  object\n",
      " 4   Review Text              22641 non-null  object\n",
      " 5   Rating                   23486 non-null  int64 \n",
      " 6   Recommended IND          23486 non-null  int64 \n",
      " 7   Positive Feedback Count  23486 non-null  int64 \n",
      " 8   Division Name            23472 non-null  object\n",
      " 9   Department Name          23472 non-null  object\n",
      " 10  Class Name               23472 non-null  object\n",
      "dtypes: int64(6), object(5)\n",
      "memory usage: 2.0+ MB\n"
     ]
    }
   ],
   "source": [
    "raw.info()"
   ]
  },
  {
   "cell_type": "markdown",
   "id": "municipal-energy",
   "metadata": {},
   "source": [
    "## Data Validation\n",
    "\n",
    "Here a very simple example of data validation using [Pandera](https://pandera.readthedocs.io/en/stable/) library"
   ]
  },
  {
   "cell_type": "code",
   "execution_count": 7,
   "id": "awful-publication",
   "metadata": {},
   "outputs": [
    {
     "data": {
      "text/plain": [
       "Index(['Unnamed: 0', 'Clothing ID', 'Age', 'Title', 'Review Text', 'Rating',\n",
       "       'Recommended IND', 'Positive Feedback Count', 'Division Name',\n",
       "       'Department Name', 'Class Name'],\n",
       "      dtype='object')"
      ]
     },
     "execution_count": 7,
     "metadata": {},
     "output_type": "execute_result"
    }
   ],
   "source": [
    "raw.columns"
   ]
  },
  {
   "cell_type": "markdown",
   "id": "composed-breeding",
   "metadata": {},
   "source": [
    "### Define Schema"
   ]
  },
  {
   "cell_type": "code",
   "execution_count": 8,
   "id": "coordinate-lawyer",
   "metadata": {},
   "outputs": [],
   "source": [
    "COLS = raw.columns.difference(['Unnamed: 0', 'Clothing ID'])\n",
    "\n",
    "# Define checks\n",
    "check_ge_min = Check(lambda s: s >= 0)\n",
    "check_le_max = Check(lambda s: s <= max(s))\n",
    "\n",
    "schema = DataFrameSchema(\n",
    "    {\n",
    "        'Age': Column(pdv.Int, checks = [check_ge_min, check_le_max]),\n",
    "        'Title': Column(pdv.String, nullable=True),\n",
    "        'Review Text': Column(pdv.String, nullable=True), \n",
    "        'Rating': Column(pdv.Int, checks = [check_ge_min, check_le_max]),\n",
    "        'Recommended IND': Column(pdv.Int, checks = [check_ge_min, check_le_max]),\n",
    "        'Positive Feedback Count': Column(pdv.Int, checks = [check_ge_min, check_le_max]),\n",
    "        'Division Name': Column(pdv.String, nullable=True),\n",
    "        'Department Name': Column(pdv.String, nullable=True),\n",
    "        'Class Name': Column(pdv.String, nullable=True)\n",
    "    }\n",
    ")"
   ]
  },
  {
   "cell_type": "code",
   "execution_count": 9,
   "id": "continent-spencer",
   "metadata": {},
   "outputs": [
    {
     "data": {
      "text/plain": [
       "<Schema DataFrameSchema(columns={'Age': <Schema Column(name=Age, type=int)>, 'Title': <Schema Column(name=Title, type=str)>, 'Review Text': <Schema Column(name=Review Text, type=str)>, 'Rating': <Schema Column(name=Rating, type=int)>, 'Recommended IND': <Schema Column(name=Recommended IND, type=int)>, 'Positive Feedback Count': <Schema Column(name=Positive Feedback Count, type=int)>, 'Division Name': <Schema Column(name=Division Name, type=str)>, 'Department Name': <Schema Column(name=Department Name, type=str)>, 'Class Name': <Schema Column(name=Class Name, type=str)>}, checks=[], index=None, coerce=False, pandas_dtype=None,strict=False,name=None,ordered=False)>"
      ]
     },
     "execution_count": 9,
     "metadata": {},
     "output_type": "execute_result"
    }
   ],
   "source": [
    "schema"
   ]
  },
  {
   "cell_type": "markdown",
   "id": "bored-calvin",
   "metadata": {},
   "source": [
    "### Validate data"
   ]
  },
  {
   "cell_type": "code",
   "execution_count": 10,
   "id": "optional-tract",
   "metadata": {},
   "outputs": [],
   "source": [
    "val_sample = raw.drop(['Unnamed: 0', 'Clothing ID'], axis = 1).sample(n=100, random_state = RANDOM_STATE)"
   ]
  },
  {
   "cell_type": "code",
   "execution_count": 11,
   "id": "blocked-commons",
   "metadata": {},
   "outputs": [],
   "source": [
    "val_df = schema.validate(val_sample)"
   ]
  },
  {
   "cell_type": "code",
   "execution_count": 12,
   "id": "initial-illustration",
   "metadata": {},
   "outputs": [
    {
     "data": {
      "text/html": [
       "<div>\n",
       "<style scoped>\n",
       "    .dataframe tbody tr th:only-of-type {\n",
       "        vertical-align: middle;\n",
       "    }\n",
       "\n",
       "    .dataframe tbody tr th {\n",
       "        vertical-align: top;\n",
       "    }\n",
       "\n",
       "    .dataframe thead th {\n",
       "        text-align: right;\n",
       "    }\n",
       "</style>\n",
       "<table border=\"1\" class=\"dataframe\">\n",
       "  <thead>\n",
       "    <tr style=\"text-align: right;\">\n",
       "      <th></th>\n",
       "      <th>Age</th>\n",
       "      <th>Title</th>\n",
       "      <th>Review Text</th>\n",
       "      <th>Rating</th>\n",
       "      <th>Recommended IND</th>\n",
       "      <th>Positive Feedback Count</th>\n",
       "      <th>Division Name</th>\n",
       "      <th>Department Name</th>\n",
       "      <th>Class Name</th>\n",
       "    </tr>\n",
       "  </thead>\n",
       "  <tbody>\n",
       "    <tr>\n",
       "      <th>20159</th>\n",
       "      <td>44</td>\n",
       "      <td>Nice surprise</td>\n",
       "      <td>I took a risk on this one. i wasn't sure if th...</td>\n",
       "      <td>4</td>\n",
       "      <td>1</td>\n",
       "      <td>0</td>\n",
       "      <td>General Petite</td>\n",
       "      <td>Tops</td>\n",
       "      <td>Knits</td>\n",
       "    </tr>\n",
       "    <tr>\n",
       "      <th>1796</th>\n",
       "      <td>37</td>\n",
       "      <td>NaN</td>\n",
       "      <td>Buy this skit- it's everything that retailer u...</td>\n",
       "      <td>5</td>\n",
       "      <td>1</td>\n",
       "      <td>0</td>\n",
       "      <td>General Petite</td>\n",
       "      <td>Bottoms</td>\n",
       "      <td>Skirts</td>\n",
       "    </tr>\n",
       "    <tr>\n",
       "      <th>14406</th>\n",
       "      <td>38</td>\n",
       "      <td>Perfect pants</td>\n",
       "      <td>I'm so in love with these pants. they are so f...</td>\n",
       "      <td>5</td>\n",
       "      <td>1</td>\n",
       "      <td>1</td>\n",
       "      <td>General Petite</td>\n",
       "      <td>Bottoms</td>\n",
       "      <td>Pants</td>\n",
       "    </tr>\n",
       "    <tr>\n",
       "      <th>17498</th>\n",
       "      <td>24</td>\n",
       "      <td>Almost perfect, but the top is unflattering.</td>\n",
       "      <td>The dress had great potential, but the top sag...</td>\n",
       "      <td>3</td>\n",
       "      <td>0</td>\n",
       "      <td>0</td>\n",
       "      <td>General Petite</td>\n",
       "      <td>Dresses</td>\n",
       "      <td>Dresses</td>\n",
       "    </tr>\n",
       "    <tr>\n",
       "      <th>18634</th>\n",
       "      <td>36</td>\n",
       "      <td>Shape odd</td>\n",
       "      <td>The shape was not as nice on model, seemed lik...</td>\n",
       "      <td>3</td>\n",
       "      <td>0</td>\n",
       "      <td>1</td>\n",
       "      <td>General</td>\n",
       "      <td>Dresses</td>\n",
       "      <td>Dresses</td>\n",
       "    </tr>\n",
       "    <tr>\n",
       "      <th>...</th>\n",
       "      <td>...</td>\n",
       "      <td>...</td>\n",
       "      <td>...</td>\n",
       "      <td>...</td>\n",
       "      <td>...</td>\n",
       "      <td>...</td>\n",
       "      <td>...</td>\n",
       "      <td>...</td>\n",
       "      <td>...</td>\n",
       "    </tr>\n",
       "    <tr>\n",
       "      <th>17985</th>\n",
       "      <td>50</td>\n",
       "      <td>Ok shirt, white is off white</td>\n",
       "      <td>As with many of retailer's tops these days, th...</td>\n",
       "      <td>3</td>\n",
       "      <td>1</td>\n",
       "      <td>0</td>\n",
       "      <td>General</td>\n",
       "      <td>Tops</td>\n",
       "      <td>Knits</td>\n",
       "    </tr>\n",
       "    <tr>\n",
       "      <th>2536</th>\n",
       "      <td>53</td>\n",
       "      <td>Gorgeous and unique</td>\n",
       "      <td>This top is really beautiful. my girlfriend sa...</td>\n",
       "      <td>5</td>\n",
       "      <td>1</td>\n",
       "      <td>0</td>\n",
       "      <td>General</td>\n",
       "      <td>Tops</td>\n",
       "      <td>Blouses</td>\n",
       "    </tr>\n",
       "    <tr>\n",
       "      <th>20851</th>\n",
       "      <td>23</td>\n",
       "      <td>New favorite shirt</td>\n",
       "      <td>I love how pretty and soft this shirt is. it f...</td>\n",
       "      <td>5</td>\n",
       "      <td>1</td>\n",
       "      <td>1</td>\n",
       "      <td>General</td>\n",
       "      <td>Tops</td>\n",
       "      <td>Knits</td>\n",
       "    </tr>\n",
       "    <tr>\n",
       "      <th>23046</th>\n",
       "      <td>67</td>\n",
       "      <td>Perfect dressy jogger!</td>\n",
       "      <td>These joggers are so comfortable. nice and lig...</td>\n",
       "      <td>5</td>\n",
       "      <td>1</td>\n",
       "      <td>0</td>\n",
       "      <td>General</td>\n",
       "      <td>Bottoms</td>\n",
       "      <td>Pants</td>\n",
       "    </tr>\n",
       "    <tr>\n",
       "      <th>17564</th>\n",
       "      <td>39</td>\n",
       "      <td>Slip is too small...</td>\n",
       "      <td>Dress is pretty, i was disappointed by the sli...</td>\n",
       "      <td>2</td>\n",
       "      <td>0</td>\n",
       "      <td>0</td>\n",
       "      <td>General</td>\n",
       "      <td>Dresses</td>\n",
       "      <td>Dresses</td>\n",
       "    </tr>\n",
       "  </tbody>\n",
       "</table>\n",
       "<p>100 rows × 9 columns</p>\n",
       "</div>"
      ],
      "text/plain": [
       "       Age                                         Title  \\\n",
       "20159   44                                 Nice surprise   \n",
       "1796    37                                           NaN   \n",
       "14406   38                                 Perfect pants   \n",
       "17498   24  Almost perfect, but the top is unflattering.   \n",
       "18634   36                                     Shape odd   \n",
       "...    ...                                           ...   \n",
       "17985   50                  Ok shirt, white is off white   \n",
       "2536    53                           Gorgeous and unique   \n",
       "20851   23                            New favorite shirt   \n",
       "23046   67                        Perfect dressy jogger!   \n",
       "17564   39                          Slip is too small...   \n",
       "\n",
       "                                             Review Text  Rating  \\\n",
       "20159  I took a risk on this one. i wasn't sure if th...       4   \n",
       "1796   Buy this skit- it's everything that retailer u...       5   \n",
       "14406  I'm so in love with these pants. they are so f...       5   \n",
       "17498  The dress had great potential, but the top sag...       3   \n",
       "18634  The shape was not as nice on model, seemed lik...       3   \n",
       "...                                                  ...     ...   \n",
       "17985  As with many of retailer's tops these days, th...       3   \n",
       "2536   This top is really beautiful. my girlfriend sa...       5   \n",
       "20851  I love how pretty and soft this shirt is. it f...       5   \n",
       "23046  These joggers are so comfortable. nice and lig...       5   \n",
       "17564  Dress is pretty, i was disappointed by the sli...       2   \n",
       "\n",
       "       Recommended IND  Positive Feedback Count   Division Name  \\\n",
       "20159                1                        0  General Petite   \n",
       "1796                 1                        0  General Petite   \n",
       "14406                1                        1  General Petite   \n",
       "17498                0                        0  General Petite   \n",
       "18634                0                        1         General   \n",
       "...                ...                      ...             ...   \n",
       "17985                1                        0         General   \n",
       "2536                 1                        0         General   \n",
       "20851                1                        1         General   \n",
       "23046                1                        0         General   \n",
       "17564                0                        0         General   \n",
       "\n",
       "      Department Name Class Name  \n",
       "20159            Tops      Knits  \n",
       "1796          Bottoms     Skirts  \n",
       "14406         Bottoms      Pants  \n",
       "17498         Dresses    Dresses  \n",
       "18634         Dresses    Dresses  \n",
       "...               ...        ...  \n",
       "17985            Tops      Knits  \n",
       "2536             Tops    Blouses  \n",
       "20851            Tops      Knits  \n",
       "23046         Bottoms      Pants  \n",
       "17564         Dresses    Dresses  \n",
       "\n",
       "[100 rows x 9 columns]"
      ]
     },
     "execution_count": 12,
     "metadata": {},
     "output_type": "execute_result"
    }
   ],
   "source": [
    "val_df"
   ]
  },
  {
   "cell_type": "code",
   "execution_count": 13,
   "id": "opponent-pittsburgh",
   "metadata": {},
   "outputs": [
    {
     "name": "stdout",
     "output_type": "stream",
     "text": [
      "Data Validation successfully completed!\n"
     ]
    }
   ],
   "source": [
    "validation_status = val_df.empty\n",
    "if not validation_status:\n",
    "    print('Data Validation successfully completed!')"
   ]
  },
  {
   "cell_type": "markdown",
   "id": "comfortable-recipient",
   "metadata": {},
   "source": [
    "# Comments"
   ]
  },
  {
   "cell_type": "code",
   "execution_count": null,
   "id": "unlimited-walnut",
   "metadata": {},
   "outputs": [],
   "source": []
  }
 ],
 "metadata": {
  "kernelspec": {
   "display_name": "Python 3",
   "language": "python",
   "name": "python3"
  },
  "language_info": {
   "codemirror_mode": {
    "name": "ipython",
    "version": 3
   },
   "file_extension": ".py",
   "mimetype": "text/x-python",
   "name": "python",
   "nbconvert_exporter": "python",
   "pygments_lexer": "ipython3",
   "version": "3.8.8"
  }
 },
 "nbformat": 4,
 "nbformat_minor": 5
}
